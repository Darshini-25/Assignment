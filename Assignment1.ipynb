{
  "nbformat": 4,
  "nbformat_minor": 0,
  "metadata": {
    "colab": {
      "provenance": [],
      "collapsed_sections": [],
      "authorship_tag": "ABX9TyPL8cZ+l1kfGYnL7/lrhzGi",
      "include_colab_link": true
    },
    "kernelspec": {
      "name": "python3",
      "display_name": "Python 3"
    },
    "language_info": {
      "name": "python"
    }
  },
  "cells": [
    {
      "cell_type": "markdown",
      "metadata": {
        "id": "view-in-github",
        "colab_type": "text"
      },
      "source": [
        "<a href=\"https://colab.research.google.com/github/Darshini-25/Assignment/blob/main/Assignment1.ipynb\" target=\"_parent\"><img src=\"https://colab.research.google.com/assets/colab-badge.svg\" alt=\"Open In Colab\"/></a>"
      ]
    },
    {
      "cell_type": "markdown",
      "source": [
        "**List**"
      ],
      "metadata": {
        "id": "sPOG-Sx2KYwz"
      }
    },
    {
      "cell_type": "code",
      "source": [
        "vegetables=[\"potato\",\"raddish\",\"beans\",\"carrot\",\"tomato\",\"onion\"]\n",
        "print(vegetables)\n",
        "\n",
        "#append\n",
        "vegetables.append(\"pumpkin\")\n",
        "print(vegetables)\n",
        "\n",
        "#insert\n",
        "vegetables.insert(1,\"sweetpotato\")\n",
        "print(vegetables)\n",
        "\n",
        "#sort\n",
        "vegetables.sort()\n",
        "print(vegetables)\n",
        "\n",
        "#reverse\n",
        "vegetables.reverse()\n",
        "print(vegetables)\n",
        "\n",
        "#pop\n",
        "vegetables.pop()\n",
        "print(vegetables)\n",
        "\n",
        "#remove\n",
        "vegetables.remove(\"raddish\")\n",
        "print(vegetables)\n",
        "\n",
        "#slicing\n",
        "print(vegetables[0:4])\n"
      ],
      "metadata": {
        "colab": {
          "base_uri": "https://localhost:8080/"
        },
        "id": "vVFK2cfmKl4J",
        "outputId": "1307a19d-82e1-4bc7-d987-65e90bec27e9"
      },
      "execution_count": null,
      "outputs": [
        {
          "output_type": "stream",
          "name": "stdout",
          "text": [
            "['potato', 'raddish', 'beans', 'carrot', 'tomato', 'onion']\n",
            "['potato', 'raddish', 'beans', 'carrot', 'tomato', 'onion', 'pumpkin']\n",
            "['potato', 'sweetpotato', 'raddish', 'beans', 'carrot', 'tomato', 'onion', 'pumpkin']\n",
            "['beans', 'carrot', 'onion', 'potato', 'pumpkin', 'raddish', 'sweetpotato', 'tomato']\n",
            "['tomato', 'sweetpotato', 'raddish', 'pumpkin', 'potato', 'onion', 'carrot', 'beans']\n",
            "['tomato', 'sweetpotato', 'raddish', 'pumpkin', 'potato', 'onion', 'carrot']\n",
            "['tomato', 'sweetpotato', 'pumpkin', 'potato', 'onion', 'carrot']\n",
            "['tomato', 'sweetpotato', 'pumpkin', 'potato']\n"
          ]
        }
      ]
    },
    {
      "cell_type": "markdown",
      "source": [
        "**Tuple**"
      ],
      "metadata": {
        "id": "bflx6GFoOOAr"
      }
    },
    {
      "cell_type": "code",
      "source": [
        "t=(5,45.6,8,\"car\",\"fruits\",25,44,\"car\")\n",
        "print(t)\n",
        "\n",
        "#count-->count the occurance of the value/data in given tuple\n",
        "print(t.count(\"car\"))\n",
        "print(t.count(8))\n",
        "\n",
        "#index-->displays the index value for the specified data\n",
        "print(t.index(25))\n",
        "\n",
        "#slicing\n",
        "print(t[-4:-2])\n"
      ],
      "metadata": {
        "colab": {
          "base_uri": "https://localhost:8080/"
        },
        "id": "NBO6_tFCOU-p",
        "outputId": "8a8a4234-4622-4fa7-c89c-228a6571e0d3"
      },
      "execution_count": null,
      "outputs": [
        {
          "output_type": "stream",
          "name": "stdout",
          "text": [
            "(5, 45.6, 8, 'car', 'fruits', 25, 44, 'car')\n",
            "2\n",
            "1\n",
            "5\n",
            "('fruits', 25)\n"
          ]
        }
      ]
    },
    {
      "cell_type": "markdown",
      "source": [
        "**dictionary**"
      ],
      "metadata": {
        "id": "YdlTJ89dVchO"
      }
    },
    {
      "cell_type": "code",
      "source": [
        "details={\"name\":\"darshini\",\n",
        "         \"number\":12345678,\n",
        "         \"course\":\"cse\"\n",
        "    }\n",
        "print(details)\n",
        "print(details.items())\n",
        "print(details.keys())\n",
        "\n",
        "#update\n",
        "details.update({\"state\":\"karnataka\",\"number\":98765432})\n",
        "print(details)\n"
      ],
      "metadata": {
        "colab": {
          "base_uri": "https://localhost:8080/"
        },
        "id": "oFoTPukbVkZC",
        "outputId": "4bac93e7-91d0-483d-a622-c7a795a6e060"
      },
      "execution_count": null,
      "outputs": [
        {
          "output_type": "stream",
          "name": "stdout",
          "text": [
            "{'name': 'darshini', 'number': 12345678, 'course': 'cse'}\n",
            "dict_items([('name', 'darshini'), ('number', 12345678), ('course', 'cse')])\n",
            "dict_keys(['name', 'number', 'course'])\n",
            "{'name': 'darshini', 'number': 98765432, 'course': 'cse', 'state': 'karnataka'}\n"
          ]
        }
      ]
    },
    {
      "cell_type": "markdown",
      "source": [
        "**slicing**"
      ],
      "metadata": {
        "id": "0gvi_Ws4ajrk"
      }
    },
    {
      "cell_type": "code",
      "source": [
        "a=\"roller coaster\"\n",
        "print(a[-14:-8])\n",
        "print(a[-7:-2])\n",
        "print(a[-5:15])\n",
        "print(a[0:-10])\n",
        "\n",
        "\n",
        "\n"
      ],
      "metadata": {
        "colab": {
          "base_uri": "https://localhost:8080/"
        },
        "id": "PcjJmgZVapVu",
        "outputId": "52d84cc9-1a21-4fe9-98a9-bb330c8f0e8e"
      },
      "execution_count": null,
      "outputs": [
        {
          "output_type": "stream",
          "name": "stdout",
          "text": [
            "roller\n",
            "coast\n",
            "aster\n",
            "roll\n"
          ]
        }
      ]
    },
    {
      "cell_type": "markdown",
      "source": [
        "**step indexing**"
      ],
      "metadata": {
        "id": "1M8p_i6heKnt"
      }
    },
    {
      "cell_type": "code",
      "source": [
        "b=\"teachnook internship\"\n",
        "print(b[-20::1])\n",
        "print(b[-4::1])\n",
        "print(b[-12:-7:2])\n",
        "print(b[-16:-21:-2])\n",
        "print(b[-1:-20:-9])"
      ],
      "metadata": {
        "colab": {
          "base_uri": "https://localhost:8080/"
        },
        "id": "NzLXObTreSIu",
        "outputId": "708997aa-4d6d-47e4-b266-3d66471ad269"
      },
      "execution_count": null,
      "outputs": [
        {
          "output_type": "stream",
          "name": "stdout",
          "text": [
            "teachnook internship\n",
            "ship\n",
            "kit\n",
            "hat\n",
            "pie\n"
          ]
        }
      ]
    },
    {
      "cell_type": "markdown",
      "source": [
        "**Frozen set**"
      ],
      "metadata": {
        "id": "qT6SpupBbkIT"
      }
    },
    {
      "cell_type": "code",
      "source": [
        "#set\n",
        "s=set()\n",
        "print(s)\n",
        "print(type(s))\n",
        "\n",
        "#frozen set\n",
        "f=frozenset()\n",
        "print(f)\n",
        "print(type(f))\n",
        "\n",
        "s={1,2,3,4}\n",
        "l=['Denmark','Australia','Russia','Spain','HolySee']\n",
        "t=('V','O','W','E','L')\n",
        "f=frozenset(l)\n",
        "print(f)\n",
        "f1=frozenset(t)\n",
        "print(f1)\n",
        "\n",
        "\n"
      ],
      "metadata": {
        "colab": {
          "base_uri": "https://localhost:8080/"
        },
        "id": "D8x5tokJbpLO",
        "outputId": "edf04add-4199-4e1b-f0a1-67de15d49844"
      },
      "execution_count": null,
      "outputs": [
        {
          "output_type": "stream",
          "name": "stdout",
          "text": [
            "set()\n",
            "<class 'set'>\n",
            "frozenset()\n",
            "<class 'frozenset'>\n",
            "frozenset({'Denmark', 'Russia', 'HolySee', 'Australia', 'Spain'})\n",
            "frozenset({'O', 'L', 'W', 'V', 'E'})\n"
          ]
        }
      ]
    }
  ]
}