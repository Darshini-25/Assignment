{
  "nbformat": 4,
  "nbformat_minor": 0,
  "metadata": {
    "colab": {
      "provenance": [],
      "collapsed_sections": [],
      "authorship_tag": "ABX9TyOO0nosrB7OaEPXnvUmcaY/",
      "include_colab_link": true
    },
    "kernelspec": {
      "name": "python3",
      "display_name": "Python 3"
    },
    "language_info": {
      "name": "python"
    }
  },
  "cells": [
    {
      "cell_type": "markdown",
      "metadata": {
        "id": "view-in-github",
        "colab_type": "text"
      },
      "source": [
        "<a href=\"https://colab.research.google.com/github/Darshini-25/Assignment/blob/main/calculator.ipynb\" target=\"_parent\"><img src=\"https://colab.research.google.com/assets/colab-badge.svg\" alt=\"Open In Colab\"/></a>"
      ]
    },
    {
      "cell_type": "markdown",
      "source": [
        "**CALCULATOR**"
      ],
      "metadata": {
        "id": "CTkggOdj3By-"
      }
    },
    {
      "cell_type": "code",
      "execution_count": 6,
      "metadata": {
        "id": "5Qb6cyRwWhBd",
        "colab": {
          "base_uri": "https://localhost:8080/"
        },
        "outputId": "aec80b04-1b1a-4d05-86be-ee57bd2b2a21"
      },
      "outputs": [
        {
          "output_type": "stream",
          "name": "stdout",
          "text": [
            "enter the first value\n",
            "235\n",
            "enter the operator\n",
            "/\n",
            "enter the second value\n",
            "5\n",
            "the division is 47.0\n"
          ]
        }
      ],
      "source": [
        "num1=int(input(\"enter the first value\\n\"))\n",
        "operator=input(\"enter the operator\\n\")    \n",
        "num2=int(input(\"enter the second value\\n\"))\n",
        "if(operator=='+'):\n",
        "  print(\"the sum is\",(num1+num2))\n",
        "elif(operator=='-'):\n",
        "    print(\"the subtraction is\",(num1-num2))\n",
        "elif(operator=='*'):\n",
        "    print(\"the multiplication is\",(num1*num2))\n",
        "elif(operator=='/'):\n",
        "    print(\"the division is\",(num1/num2))  \n",
        "else:\n",
        "   print(\"error\")\n"
      ]
    },
    {
      "cell_type": "markdown",
      "source": [],
      "metadata": {
        "id": "qB3BohEc2_qL"
      }
    }
  ]
}